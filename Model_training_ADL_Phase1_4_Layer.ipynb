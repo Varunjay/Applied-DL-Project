{
 "cells": [
  {
   "cell_type": "markdown",
   "metadata": {
    "id": "iw0f3BqHF-de"
   },
   "source": [
    "<h2 align=\"center\">BERT 4 Layer</h2>"
   ]
  },
  {
   "cell_type": "code",
   "execution_count": 1,
   "metadata": {
    "colab": {
     "base_uri": "https://localhost:8080/"
    },
    "executionInfo": {
     "elapsed": 891,
     "status": "ok",
     "timestamp": 1648441416170,
     "user": {
      "displayName": "Rohit Jain",
      "photoUrl": "https://lh3.googleusercontent.com/a/default-user=s64",
      "userId": "12766791816306015002"
     },
     "user_tz": 240
    },
    "id": "Xe6cuN4qF-dj",
    "outputId": "f2caf466-3e00-4d07-95a3-5b90fc872fea"
   },
   "outputs": [],
   "source": [
    "import tensorflow as tf\n",
    "import tensorflow_hub as hub\n",
    "import pandas as pd\n",
    "import numpy as np\n",
    "from numpy import argmax\n",
    "# !pip install tensorflow_text\n",
    "import tensorflow_text as text\n",
    "from sklearn.model_selection import train_test_split\n",
    "from sklearn.metrics import confusion_matrix, classification_report\n",
    "import sklearn.metrics as skm\n",
    "#from google.colab import drive\n",
    "#drive.mount('/content/gdrive')"
   ]
  },
  {
   "cell_type": "code",
   "execution_count": 2,
   "metadata": {},
   "outputs": [],
   "source": [
    "X_train=pd.read_csv('X_train.csv').squeeze()\n",
    "X_test=pd.read_csv('X_test.csv').squeeze()\n",
    "y_train=pd.read_csv('y_train.csv').squeeze()\n",
    "y_test=pd.read_csv('y_test.csv').squeeze()\n"
   ]
  },
  {
   "cell_type": "markdown",
   "metadata": {
    "id": "y9F6j9dEF-dt"
   },
   "source": [
    "<h4>import BERT model to get embeding vectors</h4>"
   ]
  },
  {
   "cell_type": "code",
   "execution_count": 3,
   "metadata": {
    "executionInfo": {
     "elapsed": 23954,
     "status": "ok",
     "timestamp": 1648441460242,
     "user": {
      "displayName": "Rohit Jain",
      "photoUrl": "https://lh3.googleusercontent.com/a/default-user=s64",
      "userId": "12766791816306015002"
     },
     "user_tz": 240
    },
    "id": "kxem2CzfF-du"
   },
   "outputs": [],
   "source": [
    "bert_preprocess = hub.KerasLayer(\"https://tfhub.dev/tensorflow/bert_en_uncased_preprocess/3\")\n",
    "bert_encoder = hub.KerasLayer(\"https://tfhub.dev/tensorflow/small_bert/bert_en_uncased_L-4_H-768_A-12/2\")"
   ]
  },
  {
   "cell_type": "code",
   "execution_count": 4,
   "metadata": {
    "executionInfo": {
     "elapsed": 12,
     "status": "ok",
     "timestamp": 1648441460243,
     "user": {
      "displayName": "Rohit Jain",
      "photoUrl": "https://lh3.googleusercontent.com/a/default-user=s64",
      "userId": "12766791816306015002"
     },
     "user_tz": 240
    },
    "id": "Umuxb7VraMTR"
   },
   "outputs": [],
   "source": [
    "#performing one hot encoding for output. \n",
    "dum_df = pd.get_dummies(y_train)\n",
    "y_train = np.asarray(dum_df) #converting onehot encoded output variable as needed for softmax layer"
   ]
  },
  {
   "cell_type": "markdown",
   "metadata": {
    "id": "feseSmMyF-dx"
   },
   "source": [
    "<h4>Build Model</h4>"
   ]
  },
  {
   "cell_type": "code",
   "execution_count": 5,
   "metadata": {
    "executionInfo": {
     "elapsed": 896,
     "status": "ok",
     "timestamp": 1648441461129,
     "user": {
      "displayName": "Rohit Jain",
      "photoUrl": "https://lh3.googleusercontent.com/a/default-user=s64",
      "userId": "12766791816306015002"
     },
     "user_tz": 240
    },
    "id": "Wz-azcUaF-dx"
   },
   "outputs": [],
   "source": [
    "# Bert layers\n",
    "text_input = tf.keras.layers.Input(shape=(), dtype=tf.string, name='text')\n",
    "preprocessed_text = bert_preprocess(text_input)\n",
    "outputs = bert_encoder(preprocessed_text)\n",
    "\n",
    "# Neural network layers\n",
    "l = tf.keras.layers.Dropout(0.1, name=\"dropout\")(outputs['pooled_output'])\n",
    "l = tf.keras.layers.Dense(3, activation='softmax', name=\"output\")(l)\n",
    "# l_y = tf.keras.layers.Dense(1,activation = 'softmax')(l)\n",
    "\n",
    "from numpy import argmax\n",
    "# Use inputs and outputs to construct a final model\n",
    "model = tf.keras.Model(inputs=[text_input], outputs = [l])"
   ]
  },
  {
   "cell_type": "markdown",
   "metadata": {
    "id": "nm7YHu1KF-dy"
   },
   "source": [
    "https://stackoverflow.com/questions/47605558/importerror-failed-to-import-pydot-you-must-install-pydot-and-graphviz-for-py"
   ]
  },
  {
   "cell_type": "code",
   "execution_count": 6,
   "metadata": {
    "executionInfo": {
     "elapsed": 5,
     "status": "ok",
     "timestamp": 1648441461130,
     "user": {
      "displayName": "Rohit Jain",
      "photoUrl": "https://lh3.googleusercontent.com/a/default-user=s64",
      "userId": "12766791816306015002"
     },
     "user_tz": 240
    },
    "id": "PjFNBuI_F-dy"
   },
   "outputs": [
    {
     "name": "stdout",
     "output_type": "stream",
     "text": [
      "Model: \"model\"\n",
      "__________________________________________________________________________________________________\n",
      " Layer (type)                   Output Shape         Param #     Connected to                     \n",
      "==================================================================================================\n",
      " text (InputLayer)              [(None,)]            0           []                               \n",
      "                                                                                                  \n",
      " keras_layer (KerasLayer)       {'input_mask': (Non  0           ['text[0][0]']                   \n",
      "                                e, 128),                                                          \n",
      "                                 'input_word_ids':                                                \n",
      "                                (None, 128),                                                      \n",
      "                                 'input_type_ids':                                                \n",
      "                                (None, 128)}                                                      \n",
      "                                                                                                  \n",
      " keras_layer_1 (KerasLayer)     {'pooled_output': (  52779265    ['keras_layer[0][0]',            \n",
      "                                None, 768),                       'keras_layer[0][1]',            \n",
      "                                 'encoder_outputs':               'keras_layer[0][2]']            \n",
      "                                 [(None, 128, 768),                                               \n",
      "                                 (None, 128, 768),                                                \n",
      "                                 (None, 128, 768),                                                \n",
      "                                 (None, 128, 768)],                                               \n",
      "                                 'default': (None,                                                \n",
      "                                768),                                                             \n",
      "                                 'sequence_output':                                               \n",
      "                                 (None, 128, 768)}                                                \n",
      "                                                                                                  \n",
      " dropout (Dropout)              (None, 768)          0           ['keras_layer_1[0][5]']          \n",
      "                                                                                                  \n",
      " output (Dense)                 (None, 3)            2307        ['dropout[0][0]']                \n",
      "                                                                                                  \n",
      "==================================================================================================\n",
      "Total params: 52,781,572\n",
      "Trainable params: 2,307\n",
      "Non-trainable params: 52,779,265\n",
      "__________________________________________________________________________________________________\n"
     ]
    }
   ],
   "source": [
    "model.summary()"
   ]
  },
  {
   "cell_type": "code",
   "execution_count": 7,
   "metadata": {
    "executionInfo": {
     "elapsed": 4,
     "status": "ok",
     "timestamp": 1648441461130,
     "user": {
      "displayName": "Rohit Jain",
      "photoUrl": "https://lh3.googleusercontent.com/a/default-user=s64",
      "userId": "12766791816306015002"
     },
     "user_tz": 240
    },
    "id": "ETZjX3eKF-dz"
   },
   "outputs": [],
   "source": [
    "METRICS = [\n",
    "      tf.keras.metrics.BinaryAccuracy(name='accuracy'),\n",
    "      tf.keras.metrics.Precision(name='precision'),\n",
    "      tf.keras.metrics.Recall(name='recall')\n",
    "]\n",
    "\n",
    "model.compile(optimizer='adam',\n",
    "              loss='categorical_crossentropy', #for multiclass\n",
    "              metrics=METRICS)"
   ]
  },
  {
   "cell_type": "markdown",
   "metadata": {
    "id": "6D20C-88F-dz"
   },
   "source": [
    "<h4>Train the model</h4>"
   ]
  },
  {
   "cell_type": "code",
   "execution_count": 8,
   "metadata": {
    "colab": {
     "base_uri": "https://localhost:8080/"
    },
    "executionInfo": {
     "elapsed": 392736,
     "status": "ok",
     "timestamp": 1648441853863,
     "user": {
      "displayName": "Rohit Jain",
      "photoUrl": "https://lh3.googleusercontent.com/a/default-user=s64",
      "userId": "12766791816306015002"
     },
     "user_tz": 240
    },
    "id": "DprF6xtiF-dz",
    "outputId": "db016d0f-9bd7-4c37-9916-a9bcebebd52c"
   },
   "outputs": [
    {
     "name": "stdout",
     "output_type": "stream",
     "text": [
      "Epoch 1/10\n",
      "1500/1500 [==============================] - 289s 189ms/step - loss: 0.8594 - accuracy: 0.7460 - precision: 0.6647 - recall: 0.4802\n",
      "Epoch 2/10\n",
      "1500/1500 [==============================] - 290s 193ms/step - loss: 0.8124 - accuracy: 0.7630 - precision: 0.6841 - recall: 0.5371\n",
      "Epoch 3/10\n",
      "1500/1500 [==============================] - 301s 201ms/step - loss: 0.8073 - accuracy: 0.7653 - precision: 0.6850 - recall: 0.5478\n",
      "Epoch 4/10\n",
      "1500/1500 [==============================] - 287s 191ms/step - loss: 0.8045 - accuracy: 0.7661 - precision: 0.6872 - recall: 0.5476\n",
      "Epoch 5/10\n",
      "1500/1500 [==============================] - 294s 196ms/step - loss: 0.8016 - accuracy: 0.7669 - precision: 0.6871 - recall: 0.5520\n",
      "Epoch 6/10\n",
      "1500/1500 [==============================] - 317s 211ms/step - loss: 0.8003 - accuracy: 0.7675 - precision: 0.6882 - recall: 0.5530\n",
      "Epoch 7/10\n",
      "1500/1500 [==============================] - 304s 202ms/step - loss: 0.7981 - accuracy: 0.7681 - precision: 0.6890 - recall: 0.5544\n",
      "Epoch 8/10\n",
      "1500/1500 [==============================] - 291s 194ms/step - loss: 0.7952 - accuracy: 0.7688 - precision: 0.6905 - recall: 0.5554\n",
      "Epoch 9/10\n",
      "1500/1500 [==============================] - 292s 195ms/step - loss: 0.7984 - accuracy: 0.7688 - precision: 0.6894 - recall: 0.5574\n",
      "Epoch 10/10\n",
      "1500/1500 [==============================] - 291s 194ms/step - loss: 0.7977 - accuracy: 0.7694 - precision: 0.6911 - recall: 0.5574\n"
     ]
    },
    {
     "data": {
      "text/plain": [
       "<keras.callbacks.History at 0x16782d43be0>"
      ]
     },
     "execution_count": 8,
     "metadata": {},
     "output_type": "execute_result"
    }
   ],
   "source": [
    "\n",
    "model.fit(X_train, np.asarray(y_train), epochs=10)"
   ]
  },
  {
   "cell_type": "code",
   "execution_count": 9,
   "metadata": {
    "executionInfo": {
     "elapsed": 5,
     "status": "ok",
     "timestamp": 1648441853864,
     "user": {
      "displayName": "Rohit Jain",
      "photoUrl": "https://lh3.googleusercontent.com/a/default-user=s64",
      "userId": "12766791816306015002"
     },
     "user_tz": 240
    },
    "id": "9vW8ey12F-d0",
    "scrolled": true
   },
   "outputs": [],
   "source": [
    "test_df = pd.get_dummies(y_test)\n",
    "y_test = np.asarray(test_df)\n"
   ]
  },
  {
   "cell_type": "code",
   "execution_count": 10,
   "metadata": {
    "colab": {
     "base_uri": "https://localhost:8080/"
    },
    "executionInfo": {
     "elapsed": 12291,
     "status": "ok",
     "timestamp": 1648441866152,
     "user": {
      "displayName": "Rohit Jain",
      "photoUrl": "https://lh3.googleusercontent.com/a/default-user=s64",
      "userId": "12766791816306015002"
     },
     "user_tz": 240
    },
    "id": "30igiu41F-d0",
    "outputId": "46bfb0de-f9d6-4405-b2cd-8d2564718a9b"
   },
   "outputs": [
    {
     "name": "stdout",
     "output_type": "stream",
     "text": [
      "              precision    recall  f1-score   support\n",
      "\n",
      "           0       0.67      0.70      0.68      4000\n",
      "           1       0.57      0.59      0.58      4000\n",
      "           2       0.73      0.67      0.70      4000\n",
      "\n",
      "    accuracy                           0.65     12000\n",
      "   macro avg       0.66      0.65      0.65     12000\n",
      "weighted avg       0.66      0.65      0.65     12000\n",
      "\n"
     ]
    }
   ],
   "source": [
    "# model.evaluate(X_test, y_test)\n",
    "y_predicted = model.predict(X_test)\n",
    "print( skm.classification_report(argmax(y_test, axis=1), argmax(y_predicted, axis=1)))\n",
    "# y_train_p = model.predict(X_train) #train prediction"
   ]
  },
  {
   "cell_type": "code",
   "execution_count": 11,
   "metadata": {
    "executionInfo": {
     "elapsed": 11,
     "status": "ok",
     "timestamp": 1648441866153,
     "user": {
      "displayName": "Rohit Jain",
      "photoUrl": "https://lh3.googleusercontent.com/a/default-user=s64",
      "userId": "12766791816306015002"
     },
     "user_tz": 240
    },
    "id": "6jq8aHRMp2F0"
   },
   "outputs": [],
   "source": [
    "\n",
    "# c = pd.DataFrame(X_test)\n",
    "# for i in range(len(y_predicted)):\n",
    "#     print(str(c.iloc[i]))\n",
    "#     print(str(argmax(y_test[i], axis=0)),str(argmax(y_predicted[i], axis=0)))\n",
    "\n",
    "# d = pd.DataFrame(X_train)\n",
    "# for i in range(len(y_train_p)):\n",
    "#     print(str(d.iloc[i]))\n",
    "#     print(str(argmax(y_train[i], axis=0)),str(argmax(y_train_p[i], axis=0)))\n"
   ]
  },
  {
   "cell_type": "code",
   "execution_count": 12,
   "metadata": {
    "executionInfo": {
     "elapsed": 10,
     "status": "ok",
     "timestamp": 1648441866153,
     "user": {
      "displayName": "Rohit Jain",
      "photoUrl": "https://lh3.googleusercontent.com/a/default-user=s64",
      "userId": "12766791816306015002"
     },
     "user_tz": 240
    },
    "id": "PW6m4cE4F-d1"
   },
   "outputs": [],
   "source": [
    "# cm = confusion_matrix(argmax(y_test, axis = 1) , argmax(y_predicted, axis = 1))\n",
    "# cm_train = confusion_matrix(argmax(y_train, axis = 1) , argmax(y_train_p, axis = 1))\n",
    "\n",
    "# print(cm_train)"
   ]
  },
  {
   "cell_type": "code",
   "execution_count": 13,
   "metadata": {
    "executionInfo": {
     "elapsed": 9,
     "status": "ok",
     "timestamp": 1648441866153,
     "user": {
      "displayName": "Rohit Jain",
      "photoUrl": "https://lh3.googleusercontent.com/a/default-user=s64",
      "userId": "12766791816306015002"
     },
     "user_tz": 240
    },
    "id": "E1n8tjiSynW3"
   },
   "outputs": [],
   "source": [
    "\n",
    "# cm = skm.multilabel_confusion_matrix(argmax(y_test, axis=1), argmax(y_predicted, axis=1))\n",
    "# print(cm)\n"
   ]
  },
  {
   "cell_type": "code",
   "execution_count": 14,
   "metadata": {
    "colab": {
     "base_uri": "https://localhost:8080/"
    },
    "executionInfo": {
     "elapsed": 1793,
     "status": "ok",
     "timestamp": 1648441867937,
     "user": {
      "displayName": "Rohit Jain",
      "photoUrl": "https://lh3.googleusercontent.com/a/default-user=s64",
      "userId": "12766791816306015002"
     },
     "user_tz": 240
    },
    "id": "A-YBEiafF-d1",
    "outputId": "c1c477ce-0bf3-4c0f-c2e1-848fdacc25e1"
   },
   "outputs": [
    {
     "name": "stdout",
     "output_type": "stream",
     "text": [
      "0\n"
     ]
    }
   ],
   "source": [
    "man_pred = model.predict([\" do not buy. this phone is useless. Broken screen.\"])\n",
    "print(argmax(man_pred))"
   ]
  },
  {
   "cell_type": "code",
   "execution_count": 15,
   "metadata": {
    "executionInfo": {
     "elapsed": 2100,
     "status": "ok",
     "timestamp": 1648441870034,
     "user": {
      "displayName": "Rohit Jain",
      "photoUrl": "https://lh3.googleusercontent.com/a/default-user=s64",
      "userId": "12766791816306015002"
     },
     "user_tz": 240
    },
    "id": "qb9Vzv3VviYJ"
   },
   "outputs": [],
   "source": [
    "#approach 1\n",
    "model.save_weights(\"new_model_20000_4Layer.h5\")\n",
    "\n",
    "#refer to dep_class.py for calling the saved model for deployment"
   ]
  },
  {
   "cell_type": "code",
   "execution_count": 16,
   "metadata": {
    "colab": {
     "base_uri": "https://localhost:8080/"
    },
    "executionInfo": {
     "elapsed": 15844,
     "status": "ok",
     "timestamp": 1648441885876,
     "user": {
      "displayName": "Rohit Jain",
      "photoUrl": "https://lh3.googleusercontent.com/a/default-user=s64",
      "userId": "12766791816306015002"
     },
     "user_tz": 240
    },
    "id": "mm9bsjaPF-d1",
    "outputId": "747e8d75-cb06-4334-b45d-f711b501ee6b"
   },
   "outputs": [
    {
     "name": "stderr",
     "output_type": "stream",
     "text": [
      "WARNING:absl:Found untraced functions such as restored_function_body, restored_function_body, restored_function_body, restored_function_body, restored_function_body while saving (showing 5 of 126). These functions will not be directly callable after loading.\n"
     ]
    },
    {
     "name": "stdout",
     "output_type": "stream",
     "text": [
      "INFO:tensorflow:Assets written to: new_sentiment_model_20000_4Layer\\assets\n"
     ]
    },
    {
     "name": "stderr",
     "output_type": "stream",
     "text": [
      "INFO:tensorflow:Assets written to: new_sentiment_model_20000_4Layer\\assets\n"
     ]
    }
   ],
   "source": [
    "#approach 2\n",
    "#saving trained model for deployment\n",
    "model.save('new_sentiment_model_20000_4Layer')\n",
    "#to use the saved model in another program use the saved model file from above and below code:\n",
    "#model = tf.keras.models.load_model('sentiment_model')"
   ]
  },
  {
   "cell_type": "markdown",
   "metadata": {
    "id": "Xl49VbJ0F-d1"
   },
   "source": [
    "<h4>Inference</h4>"
   ]
  },
  {
   "cell_type": "code",
   "execution_count": 17,
   "metadata": {
    "colab": {
     "base_uri": "https://localhost:8080/"
    },
    "executionInfo": {
     "elapsed": 2067,
     "status": "ok",
     "timestamp": 1648442234425,
     "user": {
      "displayName": "Rohit Jain",
      "photoUrl": "https://lh3.googleusercontent.com/a/default-user=s64",
      "userId": "12766791816306015002"
     },
     "user_tz": 240
    },
    "id": "BKoSL4c-g8FS",
    "outputId": "7bc13923-8157-42fd-906a-fce8dc0f6dd2"
   },
   "outputs": [
    {
     "name": "stdout",
     "output_type": "stream",
     "text": [
      "[2 0 0]\n"
     ]
    }
   ],
   "source": [
    "review = [\"Its amazing,great,awesome\",\n",
    "          \"Screen looked pixelated and it doesnt seem as show in the pictures. Moreover the color grading is extremely poor,but I would recommend it\",\n",
    "          \"Screen is purple\"]\n",
    "print(argmax(model.predict(review), axis=1))"
   ]
  },
  {
   "cell_type": "code",
   "execution_count": 31,
   "metadata": {},
   "outputs": [],
   "source": [
    "model = tf.keras.models.load_model('sentiment_model_100000')"
   ]
  },
  {
   "cell_type": "code",
   "execution_count": 32,
   "metadata": {},
   "outputs": [
    {
     "data": {
      "text/plain": [
       "array([[0.0178345 , 0.01080635, 0.02355301, 0.10879672, 0.83900946],\n",
       "       [0.13253807, 0.2947677 , 0.3742915 , 0.15653375, 0.04186901],\n",
       "       [0.12786381, 0.1228462 , 0.20406692, 0.23231836, 0.31290472]],\n",
       "      dtype=float32)"
      ]
     },
     "execution_count": 32,
     "metadata": {},
     "output_type": "execute_result"
    }
   ],
   "source": [
    "model.predict(review)"
   ]
  },
  {
   "cell_type": "code",
   "execution_count": 36,
   "metadata": {
    "executionInfo": {
     "elapsed": 6,
     "status": "ok",
     "timestamp": 1648441887358,
     "user": {
      "displayName": "Rohit Jain",
      "photoUrl": "https://lh3.googleusercontent.com/a/default-user=s64",
      "userId": "12766791816306015002"
     },
     "user_tz": 240
    },
    "id": "mja6d4sF-PKX"
   },
   "outputs": [],
   "source": [
    "# from google.colab import files\n",
    "# export_dir = 'content/saved_model'\n",
    "# sentiment_model = 'sentiment_model'\n",
    "# tf.saved_model.save(model, export_dir=export_dir)"
   ]
  },
  {
   "cell_type": "code",
   "execution_count": 37,
   "metadata": {
    "executionInfo": {
     "elapsed": 5,
     "status": "ok",
     "timestamp": 1648441887359,
     "user": {
      "displayName": "Rohit Jain",
      "photoUrl": "https://lh3.googleusercontent.com/a/default-user=s64",
      "userId": "12766791816306015002"
     },
     "user_tz": 240
    },
    "id": "Z16aU2m5A8Ur"
   },
   "outputs": [],
   "source": [
    "# files.download(export_dir + '/saved_model.pb')"
   ]
  },
  {
   "cell_type": "code",
   "execution_count": 38,
   "metadata": {
    "executionInfo": {
     "elapsed": 4,
     "status": "ok",
     "timestamp": 1648441887359,
     "user": {
      "displayName": "Rohit Jain",
      "photoUrl": "https://lh3.googleusercontent.com/a/default-user=s64",
      "userId": "12766791816306015002"
     },
     "user_tz": 240
    },
    "id": "sdKRFmILAA7b"
   },
   "outputs": [],
   "source": [
    "# !zip -r '/content/sentiment_model.zip' '/content/sentiment_model'\n",
    "# from google.colab import files\n",
    "# files.download(\"/content/sentiment_model.zip\")"
   ]
  },
  {
   "cell_type": "code",
   "execution_count": 39,
   "metadata": {
    "executionInfo": {
     "elapsed": 4,
     "status": "ok",
     "timestamp": 1648441887359,
     "user": {
      "displayName": "Rohit Jain",
      "photoUrl": "https://lh3.googleusercontent.com/a/default-user=s64",
      "userId": "12766791816306015002"
     },
     "user_tz": 240
    },
    "id": "tpvsd-18DRVU"
   },
   "outputs": [],
   "source": [
    "# # serialize model to JSON\n",
    "# model_json = model1.to_json()\n",
    "# with open(\"model.json\", \"w\") as json_file:\n",
    "# #     json_file.write(model_json)\n",
    "# # serialize weights to HDF5\n",
    "# model.save_weights(\"model.h5\")\n",
    "# print(\"Saved model to disk\")"
   ]
  }
 ],
 "metadata": {
  "accelerator": "GPU",
  "colab": {
   "collapsed_sections": [],
   "name": "Model_training_ADL_Phase1.ipynb",
   "provenance": [
    {
     "file_id": "1hi9xo3G1T-e9UeCrWZhGwk6Es4SYy0tU",
     "timestamp": 1648439866231
    }
   ],
   "toc_visible": true
  },
  "kernelspec": {
   "display_name": "ADL",
   "language": "python",
   "name": "adl"
  },
  "language_info": {
   "codemirror_mode": {
    "name": "ipython",
    "version": 3
   },
   "file_extension": ".py",
   "mimetype": "text/x-python",
   "name": "python",
   "nbconvert_exporter": "python",
   "pygments_lexer": "ipython3",
   "version": "3.8.13"
  }
 },
 "nbformat": 4,
 "nbformat_minor": 1
}
